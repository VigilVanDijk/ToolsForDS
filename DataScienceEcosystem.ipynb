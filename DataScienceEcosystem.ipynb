{
 "cells": [
  {
   "cell_type": "markdown",
   "id": "b7d0ee68-4538-47fe-9b6e-de6a13520e82",
   "metadata": {},
   "source": [
    "# Data Science Tools and Ecosystem"
   ]
  },
  {
   "cell_type": "markdown",
   "id": "613a91f1-7c52-44f5-9d98-7f9ecf078353",
   "metadata": {},
   "source": [
    "# In this notebook, Data Science Tools and Ecosystem are summarized."
   ]
  },
  {
   "cell_type": "markdown",
   "id": "f505f003-5b29-49f8-a0a4-7f47c95c6f68",
   "metadata": {},
   "source": [
    "**Objectives:**\n",
    "* List popular languages for Data Science \n",
    "* Understand common libraries used in Data Science \n",
    "* Evaluate arithmetic expressions in Python"
   ]
  },
  {
   "cell_type": "markdown",
   "id": "483d2c5e-b58e-4aec-a09f-5a81bd2931da",
   "metadata": {},
   "source": [
    "# Popular Data Science Languages\n",
    "     1.Python\n",
    "     2.R\n",
    "     3.SQL\n",
    "     4.Java"
   ]
  },
  {
   "cell_type": "markdown",
   "id": "dd3bf132-056e-44c5-8f19-77869292aaf8",
   "metadata": {},
   "source": [
    "# Some of the commonly used libraries used by Data Scientists include:\n",
    "    1.Pandas\n",
    "    2.NumPy\n",
    "    3.PlotLy"
   ]
  },
  {
   "cell_type": "markdown",
   "id": "26f5ce07-122b-45df-996b-832afbba8aca",
   "metadata": {},
   "source": [
    "# Data Science Tools\n",
    "\n",
    "| Data Science Tools |\n",
    "| ----------------- |\n",
    "| JupyterLab |\n",
    "| RStudio |\n",
    "| Visual Studio Code |"
   ]
  },
  {
   "cell_type": "markdown",
   "id": "969f0a86-24bf-4107-8214-a46be29cef31",
   "metadata": {},
   "source": [
    "### Below are a few examples of evaluating arithmetic expressions in Python\n",
    "    "
   ]
  },
  {
   "cell_type": "code",
   "execution_count": 2,
   "id": "3acc24cd-eebd-49fe-ac20-e68682d7b1be",
   "metadata": {},
   "outputs": [
    {
     "data": {
      "text/plain": [
       "17"
      ]
     },
     "execution_count": 2,
     "metadata": {},
     "output_type": "execute_result"
    }
   ],
   "source": [
    "# This a simple arithmetic expression to multiply then add integers\n",
    "(3*4)+5"
   ]
  },
  {
   "cell_type": "code",
   "execution_count": 5,
   "id": "bb03593d-5485-4fa5-bdf2-29e9dd295f38",
   "metadata": {},
   "outputs": [
    {
     "data": {
      "text/plain": [
       "33.333333333333336"
      ]
     },
     "execution_count": 5,
     "metadata": {},
     "output_type": "execute_result"
    }
   ],
   "source": [
    "# This will convert 200 minutes to hours by diving by 60\n",
    "hours = 200/6\n",
    "hours"
   ]
  },
  {
   "cell_type": "markdown",
   "id": "9d9cd9dc-31aa-4131-a3e8-592b7abf37dd",
   "metadata": {},
   "source": [
    "## Author\n",
    "Rohit Joshi"
   ]
  },
  {
   "cell_type": "code",
   "execution_count": null,
   "id": "3a29a66f-12e7-4bc1-9c9f-eaea68093fa6",
   "metadata": {},
   "outputs": [],
   "source": []
  }
 ],
 "metadata": {
  "kernelspec": {
   "display_name": "Python 3 (ipykernel)",
   "language": "python",
   "name": "python3"
  },
  "language_info": {
   "codemirror_mode": {
    "name": "ipython",
    "version": 3
   },
   "file_extension": ".py",
   "mimetype": "text/x-python",
   "name": "python",
   "nbconvert_exporter": "python",
   "pygments_lexer": "ipython3",
   "version": "3.11.9"
  }
 },
 "nbformat": 4,
 "nbformat_minor": 5
}
